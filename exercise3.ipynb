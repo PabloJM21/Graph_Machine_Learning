{
 "cells": [
  {
   "cell_type": "markdown",
   "id": "602fec09-a231-4855-bab7-19410340e532",
   "metadata": {},
   "source": [
    "# Exercise 3\n",
    "Due:  Tue November 12, 8:00am"
   ]
  },
  {
   "cell_type": "markdown",
   "id": "b2e91c18",
   "metadata": {},
   "source": [
    "Names of all participants working on this exercise:\n",
    "Davide Mattioli\n",
    "Pablo Jahnen\n",
    "\n"
   ]
  },
  {
   "cell_type": "code",
   "id": "497bd917-87df-4c9c-8d69-7dd0cd90212a",
   "metadata": {
    "ExecuteTime": {
     "end_time": "2024-11-10T15:25:44.462731Z",
     "start_time": "2024-11-10T15:25:44.421047Z"
    }
   },
   "source": [
    "%load_ext autoreload\n",
    "%autoreload 2"
   ],
   "outputs": [],
   "execution_count": 1
  },
  {
   "cell_type": "code",
   "id": "cac6c9e9-fc1f-4a34-8404-165315a2ebf5",
   "metadata": {
    "jupyter": {
     "is_executing": true
    },
    "ExecuteTime": {
     "start_time": "2024-11-10T15:25:44.465740Z"
    }
   },
   "source": [
    "import torch\n",
    "import torch_geometric as pyg\n",
    "import ogb.graphproppred\n",
    "import ogb.graphproppred.mol_encoder\n",
    "from tqdm import tqdm\n",
    "import torch_scatter\n",
    "import sklearn"
   ],
   "outputs": [],
   "execution_count": null
  },
  {
   "cell_type": "code",
   "id": "22cff34d-205e-4ebe-a747-a36fa653895a",
   "metadata": {
    "jupyter": {
     "is_executing": true
    }
   },
   "source": [
    "# find device\n",
    "if torch.cuda.is_available(): # NVIDIA\n",
    "    device = torch.device('cuda')\n",
    "elif torch.backends.mps.is_available(): # apple M1/M2\n",
    "    device = torch.device('mps') \n",
    "else:\n",
    "    device = torch.device('cpu')\n",
    "device"
   ],
   "outputs": [],
   "execution_count": null
  },
  {
   "cell_type": "markdown",
   "id": "9902e247-1387-4c6b-823a-863c1ec9e196",
   "metadata": {},
   "source": [
    "ppa = ogb.graphproppred.PygGraphPropPredDataset(name=\"ogbg-ppa\")"
   ]
  },
  {
   "cell_type": "code",
   "id": "9b84bc22-9811-4bf4-b6f2-d870819492df",
   "metadata": {
    "jupyter": {
     "is_executing": true
    }
   },
   "source": [
    "dataset = pyg.datasets.LRGBDataset(root='dataset/peptides-func', name=\"Peptides-func\")\n",
    "peptides_train = pyg.datasets.LRGBDataset(root='dataset/peptides-func', name=\"Peptides-func\", split=\"train\")\n",
    "peptides_val   = pyg.datasets.LRGBDataset(root='dataset/peptides-func', name=\"Peptides-func\", split=\"val\")\n",
    "peptides_test  = pyg.datasets.LRGBDataset(root='dataset/peptides-func', name=\"Peptides-func\", split=\"test\")\n",
    "\n",
    "batch_size = 32\n",
    "train_loader = pyg.loader.DataLoader(peptides_train, batch_size = batch_size, shuffle = True)\n",
    "val_loader = pyg.loader.DataLoader(peptides_val, batch_size = batch_size, shuffle = True)\n",
    "test_loader = pyg.loader.DataLoader(peptides_test, batch_size = batch_size, shuffle = True)\n",
    "\n"
   ],
   "outputs": [],
   "execution_count": null
  },
  {
   "cell_type": "markdown",
   "id": "c15146ef-d990-42ea-8801-33803a5d3e29",
   "metadata": {},
   "source": [
    "In this exercise, we will expand our sparse GNNs. For reference, I attached my version of the GCNLayer module (for those who did have problems with exercise 2).\n",
    "\n",
    "For next week please:\n",
    "1. Implement virtual nodes\n",
    "2. Implement GINE (GIN+Edge features) based on the sparse implementation from Exercise 2\n",
    "3. Test everything (especially the effects of virtual nodes and edge features) on peptides-func.\n",
    "4. Draw the molecule peptides_train[0]\n",
    "\n",
    "Expected performance of the GNNs would be to reach more than 0.6 AP. (0.68 is within reach using simple and small networks)."
   ]
  },
  {
   "cell_type": "code",
   "id": "0a5bf024-1f05-4070-b99b-f3c3f247fed4",
   "metadata": {
    "vscode": {
     "languageId": "plaintext"
    },
    "jupyter": {
     "is_executing": true
    }
   },
   "source": [
    "class GCNLayer(torch.nn.Module):\n",
    "    def __init__(self, in_features: int, out_features: int, activation=torch.nn.functional.relu):\n",
    "        super(GCNLayer, self).__init__()\n",
    "        self.activation = activation\n",
    "        self.W: torch.Tensor = torch.nn.Parameter(torch.zeros(in_features, out_features))\n",
    "        torch.nn.init.kaiming_normal_(self.W) \n",
    "\n",
    "    def forward(self, H: torch.Tensor, edge_index: torch.Tensor):\n",
    "        out = H.clone()\n",
    "        new_H = torch_scatter.scatter_add(H[edge_index[0]], edge_index[1], dim=0, dim_size=out.shape[0])\n",
    "        out = out + new_H\n",
    "        out = out.matmul(self.W)\n",
    "        if self.activation:\n",
    "            out = self.activation(out)\n",
    "        return out"
   ],
   "outputs": [],
   "execution_count": null
  },
  {
   "cell_type": "code",
   "id": "06f75027-d755-4701-8ef3-22e8650be473",
   "metadata": {
    "jupyter": {
     "is_executing": true
    }
   },
   "source": [
    "def evaluate(loader,model):\n",
    "    \n",
    "    y_pred = []\n",
    "    y_true = []\n",
    "    model.eval()\n",
    "    with torch.no_grad():\n",
    "        for batch in loader:\n",
    "            batch = batch.to(next(model.parameters()).device)\n",
    "            outputs = model(batch.x, batch.edge_index, batch.batch)\n",
    "            y_pred.extend(outputs.cpu().numpy())\n",
    "            y_true.extend(batch.y.cpu().numpy())\n",
    "    \n",
    "    ap_score = sklearn.metrics.average_precision_score(y_true, y_pred)\n",
    "    # print(f\"Average Precision Score: {ap_score:.4f}\")\n",
    "    return ap_score"
   ],
   "outputs": [],
   "execution_count": null
  },
  {
   "cell_type": "code",
   "id": "1a618156-ec02-4e85-9cb0-14e99e47301d",
   "metadata": {
    "jupyter": {
     "is_executing": true
    }
   },
   "source": [
    "class GINELayer(torch.nn.Module):\n",
    "    def __init__(self, in_features: int, out_features: int):\n",
    "        super(GINELayer, self).__init__()\n",
    "        self.mlp = torch.nn.Sequential(\n",
    "            torch.nn.Linear(in_features, out_features),\n",
    "            torch.nn.ReLU(),\n",
    "            torch.nn.Linear(out_features, out_features)\n",
    "        )\n",
    "        self.edge_mlp = torch.nn.Linear(in_features, out_features)\n",
    "\n",
    "    def forward(self, H: torch.Tensor, edge_index: torch.Tensor, edge_attr: torch.Tensor):\n",
    "        # Aggregate messages with edge features\n",
    "        edge_messages = self.edge_mlp(edge_attr)\n",
    "        messages = H[edge_index[0]] + edge_messages\n",
    "        aggregated = torch_scatter.scatter_add(messages, edge_index[1], dim=0, dim_size=H.shape[0])\n",
    "        return self.mlp(aggregated)\n"
   ],
   "outputs": [],
   "execution_count": null
  },
  {
   "metadata": {
    "jupyter": {
     "is_executing": true
    }
   },
   "cell_type": "code",
   "source": [
    "import networkx as nx\n",
    "import matplotlib.pyplot as plt\n",
    "\n",
    "data = peptides_train[0]\n",
    "G = pyg.utils.to_networkx(data, to_undirected=True)\n",
    "\n",
    "plt.figure(figsize=(8, 8))\n",
    "nx.draw(G, node_size=30, with_labels=True)\n",
    "plt.show()\n"
   ],
   "id": "9a2117ce8f6ca5e7",
   "outputs": [],
   "execution_count": null
  }
 ],
 "metadata": {
  "kernelspec": {
   "display_name": "Python 3 (ipykernel)",
   "language": "python",
   "name": "python3"
  },
  "language_info": {
   "codemirror_mode": {
    "name": "ipython",
    "version": 3
   },
   "file_extension": ".py",
   "mimetype": "text/x-python",
   "name": "python",
   "nbconvert_exporter": "python",
   "pygments_lexer": "ipython3",
   "version": "3.11.10"
  }
 },
 "nbformat": 4,
 "nbformat_minor": 5
}
