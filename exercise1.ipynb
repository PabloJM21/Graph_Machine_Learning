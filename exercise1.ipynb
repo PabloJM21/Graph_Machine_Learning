{
 "cells": [
  {
   "cell_type": "markdown",
   "id": "fb719674-c334-440d-af62-1aed8c57f1ec",
   "metadata": {},
   "source": [
    "# Dense GNN implementation\n",
    "\n",
    "In this exercise we are implementing a GNN from scratch using dense matrices.\n",
    "Note that as the memory requirement of a dense matrix scales quadratically with the number of nodes in a graph, this limits us to datasets with only small graphs. \n",
    "\n",
    "We will use the following dataset molHIV.\n",
    "\n",
    "For the network we need a message-passing layer and pooling function.\n",
    "\n",
    "1. Describe the datasets in your own words. Also talk about its features and statistical properties of the graphs and labels.\n",
    "1. Implement the class GCNLayer to perform one round of message passing. You may use any variant of message passing here.\n",
    "1. Implement a pooling layer like MeanPooling or SumPooling (or both).\n",
    "1. Implement a one-hot-encoding of the atom type (this will positively affect classification performance)\n",
    "1. Implement the model class GraphGCN that builds upon your GCNLayer and Pooling layer.\n",
    "1. Create and train a GraphGCN model on MolHIV. As MOlHIV is highly imbalanced, it will make sense to adapt class weights in your loss function.\n",
    "\n",
    "For the dataset molHIV we aim to reach something like 0.64 ROC (or higher). Note that for me the training was quite unstable, so several runs got stuck at 0.5.\n",
    "\n",
    "Note: In this exercise, we use PyG only for utilities and not to build models. Feel free to edit/ignore any of the provided code as you see fit."
   ]
  },
  {
   "cell_type": "code",
   "id": "78608f62-c77d-4f16-a924-50843e5bcc85",
   "metadata": {
    "ExecuteTime": {
     "end_time": "2024-10-27T11:29:54.494127Z",
     "start_time": "2024-10-27T11:29:54.490729Z"
    }
   },
   "source": [
    "import torch\n",
    "import torch_geometric as pyg\n",
    "import numpy as np\n",
    "from ogb.graphproppred import PygGraphPropPredDataset,Evaluator\n",
    "\n",
    "from tqdm import tqdm"
   ],
   "outputs": [],
   "execution_count": 38
  },
  {
   "cell_type": "code",
   "id": "906e13d0-cf25-450f-948c-c8f3fa214850",
   "metadata": {
    "ExecuteTime": {
     "end_time": "2024-10-27T11:29:54.512186Z",
     "start_time": "2024-10-27T11:29:54.506676Z"
    }
   },
   "source": [
    "# find device\n",
    "if torch.cuda.is_available(): # NVIDIA\n",
    "    device = torch.device('cuda')\n",
    "elif torch.backends.mps.is_available(): # apple silicon\n",
    "    device = torch.device('mps') \n",
    "else:\n",
    "    device = torch.device('cpu') # fallback\n",
    "device"
   ],
   "outputs": [
    {
     "data": {
      "text/plain": [
       "device(type='cuda')"
      ]
     },
     "execution_count": 39,
     "metadata": {},
     "output_type": "execute_result"
    }
   ],
   "execution_count": 39
  },
  {
   "metadata": {
    "ExecuteTime": {
     "end_time": "2024-10-27T11:29:54.538964Z",
     "start_time": "2024-10-27T11:29:54.536786Z"
    }
   },
   "cell_type": "code",
   "source": "",
   "id": "98f729826ee51a13",
   "outputs": [],
   "execution_count": 39
  },
  {
   "cell_type": "code",
   "id": "76a3a3e8-b9cb-42d7-be0f-8c41a1304a8d",
   "metadata": {
    "ExecuteTime": {
     "end_time": "2024-10-27T11:29:54.544472Z",
     "start_time": "2024-10-27T11:29:54.539974Z"
    }
   },
   "source": [
    "import torch.nn.functional as F\n",
    "\n",
    "class GCNLayer(torch.nn.Module):\n",
    "    def __init__(self, in_features: int, out_features: int, activation=F.relu):\n",
    "        super(GCNLayer, self).__init__()\n",
    "        self.weight = torch.nn.Parameter(torch.randn(in_features, out_features))\n",
    "        self.activation = activation\n",
    "\n",
    "    def forward(self, H: torch.Tensor, adj: torch.Tensor):\n",
    "        # Step 1: Message Passing\n",
    "        H_new = torch.mm(adj, H)\n",
    "        # Step 2: Apply Weight Matrix\n",
    "        H_new = torch.mm(H_new, self.weight)\n",
    "        # Step 3: Activation\n",
    "        H_new = self.activation(H_new)\n",
    "        return H_new\n"
   ],
   "outputs": [],
   "execution_count": 40
  },
  {
   "cell_type": "code",
   "id": "f07521e9",
   "metadata": {
    "ExecuteTime": {
     "end_time": "2024-10-27T11:29:54.556109Z",
     "start_time": "2024-10-27T11:29:54.551990Z"
    }
   },
   "source": [
    "\n",
    "\n",
    "class MeanPooling(torch.nn.Module):\n",
    "    def __init__(self, dim: int | tuple[int, ...] = 0):\n",
    "        super(MeanPooling, self).__init__()\n",
    "        self.dim = dim\n",
    "\n",
    "    def forward(self, H: torch.Tensor):\n",
    "        # Perform mean pooling along the specified dimension(s)\n",
    "        return torch.mean(H, dim=self.dim)\n"
   ],
   "outputs": [],
   "execution_count": 41
  },
  {
   "cell_type": "code",
   "id": "0bc412b3-5648-4f1f-88a0-f5a18a27a419",
   "metadata": {
    "ExecuteTime": {
     "end_time": "2024-10-27T11:29:54.566195Z",
     "start_time": "2024-10-27T11:29:54.562118Z"
    }
   },
   "source": [
    "\n",
    "class SumPooling(torch.nn.Module):\n",
    "    def __init__(self, dim: int | tuple[int, ...] = 0):\n",
    "        super(SumPooling, self).__init__()\n",
    "        self.dim = dim\n",
    "\n",
    "    def forward(self, H: torch.Tensor):\n",
    "        # Perform sum pooling along the specified dimension(s)\n",
    "        return torch.sum(H, dim=self.dim)\n"
   ],
   "outputs": [],
   "execution_count": 42
  },
  {
   "cell_type": "code",
   "id": "add7fe46-769b-4d5c-8c9a-115c877132e2",
   "metadata": {
    "ExecuteTime": {
     "end_time": "2024-10-27T11:29:54.573711Z",
     "start_time": "2024-10-27T11:29:54.567207Z"
    }
   },
   "source": [
    "import torch\n",
    "import torch.nn.functional as F\n",
    "\n",
    "class GraphGCN(torch.nn.Module):\n",
    "    def __init__(self, in_features: int, hidden_features: int, out_features: int, pooling='mean'):\n",
    "        super(GraphGCN, self).__init__()\n",
    "\n",
    "        # Define two GCN layers\n",
    "        self.gcn1 = GCNLayer(in_features, hidden_features)\n",
    "        self.gcn2 = GCNLayer(hidden_features, hidden_features)\n",
    "\n",
    "        # Define pooling layer\n",
    "        self.pooling = MeanPooling() if pooling == 'mean' else SumPooling()\n",
    "\n",
    "        # Define a linear layer for classification\n",
    "        self.classifier = torch.nn.Linear(hidden_features, out_features)\n",
    "\n",
    "    def forward(self, H_in: torch.Tensor, adj: torch.Tensor):\n",
    "        # Pass through the first GCN layer\n",
    "        H = self.gcn1(H_in, adj)\n",
    "\n",
    "        # Pass through the second GCN layer\n",
    "        H = self.gcn2(H, adj)\n",
    "\n",
    "        # Apply pooling to get a graph-level embedding\n",
    "        H_pooled = self.pooling(H)\n",
    "\n",
    "        # Classify using the pooled representation, which has shape [batch_size, out_features]\n",
    "        out = self.classifier(H_pooled)\n",
    "\n",
    "        return out"
   ],
   "outputs": [],
   "execution_count": 43
  },
  {
   "cell_type": "markdown",
   "id": "4c9a35b2",
   "metadata": {},
   "source": [
    "## MolHIV\n",
    "\n",
    "Pytorch Geometric stores its graphs in a sparse format using the variable edge_index.\n",
    "We will thus need to create our own (torch) dataloader and extract the graphs into dense adjacency matrices.\n",
    "\n",
    "In terms of model accuracy, it really helped me to add an \"Atom encoding\", i.e. a one-hot-encoding of the atoms instead of just having the atomic numbers appear in the first column of the node features."
   ]
  },
  {
   "cell_type": "code",
   "id": "4abc2004",
   "metadata": {
    "ExecuteTime": {
     "end_time": "2024-10-27T11:29:54.580033Z",
     "start_time": "2024-10-27T11:29:54.574724Z"
    }
   },
   "source": [
    "import torch\n",
    "from sklearn.utils.class_weight import compute_class_weight\n",
    "\n",
    "class GraphDataset(torch.utils.data.Dataset):\n",
    "    def __init__(self, adjacencies, features, targets):\n",
    "        self.adjacencies = torch.tensor(adjacencies, dtype=torch.float32)\n",
    "        self.features = torch.tensor(features, dtype=torch.float32)\n",
    "        self.targets = torch.tensor(targets, dtype=torch.long)  # assuming targets are integer class labels\n",
    "\n",
    "    def __len__(self):\n",
    "        return len(self.targets)\n",
    "\n",
    "    def __getitem__(self, idx):\n",
    "        return self.adjacencies[idx], self.features[idx], self.targets[idx]\n",
    "\n",
    "    def num_features(self):\n",
    "        return self.features.shape[-1]\n",
    "\n",
    "    def compute_class_weights(self):\n",
    "        # Compute the class weights based on the target labels to address class imbalance\n",
    "        unique_classes = torch.unique(self.targets).numpy()  # Find unique classes\n",
    "        weights = compute_class_weight(class_weight='balanced', classes=unique_classes, y=self.targets.numpy())\n",
    "        return torch.tensor(weights, dtype=torch.float32)\n",
    "\n"
   ],
   "outputs": [],
   "execution_count": 44
  },
  {
   "cell_type": "code",
   "id": "7e1e0711-ea5a-4c92-979a-31053adbad79",
   "metadata": {
    "ExecuteTime": {
     "end_time": "2024-10-27T11:29:54.586950Z",
     "start_time": "2024-10-27T11:29:54.581047Z"
    }
   },
   "source": [
    "\n",
    "from torch_geometric.utils import to_dense_adj\n",
    "\n",
    "\n",
    "import torch\n",
    "from torch_geometric.utils import to_dense_adj\n",
    "import torch.nn.functional as F\n",
    "\n",
    "def extract_graphs_and_features(dataset):\n",
    "    adjacencies = []\n",
    "    features = []\n",
    "    targets = []\n",
    "    atom_types = set()  # Collect all unique atom types\n",
    "\n",
    "    max_nodes = max(data.num_nodes for data in dataset)  # Find the max number of nodes across all graphs\n",
    "\n",
    "    for data in dataset:\n",
    "        # Convert edge_index to a dense adjacency matrix and pad to max_nodes\n",
    "        adj = to_dense_adj(data.edge_index, max_num_nodes=max_nodes).squeeze(0)\n",
    "        adjacencies.append(adj)\n",
    "\n",
    "        # Pad feature matrix to max_nodes x num_features\n",
    "        node_features = F.pad(data.x, (0, 0, 0, max_nodes - data.num_nodes))\n",
    "        features.append(node_features)\n",
    "\n",
    "        # Collect unique atom types (assuming atom type is in data.x[:, 0])\n",
    "        atom_types.update(data.x[:, 0].tolist())  # Adjust if atom type index is different\n",
    "\n",
    "        # Append target label\n",
    "        targets.append(data.y)\n",
    "\n",
    "    # Create an atom type to index mapping\n",
    "    atoms_to_index = {atom: idx for idx, atom in enumerate(sorted(atom_types))}\n",
    "\n",
    "    # Convert lists to tensors\n",
    "    adjacencies = torch.stack(adjacencies)\n",
    "    features = torch.stack(features)\n",
    "    targets = torch.tensor(targets, dtype=torch.long).squeeze()\n",
    "\n",
    "    return adjacencies, features, targets, atoms_to_index\n"
   ],
   "outputs": [],
   "execution_count": 45
  },
  {
   "cell_type": "markdown",
   "id": "8f15487e-5c77-44ad-83f9-aa9df8da20b4",
   "metadata": {},
   "source": [
    "### Create Data Loaders for MolHIV"
   ]
  },
  {
   "cell_type": "code",
   "id": "a1fd2530-1131-4041-882e-4e73970a6f0b",
   "metadata": {
    "jupyter": {
     "is_executing": true
    },
    "ExecuteTime": {
     "start_time": "2024-10-27T11:29:54.588958Z"
    }
   },
   "source": [
    "batch_size = 32\n",
    "\n",
    "molHIV = PygGraphPropPredDataset(name = \"ogbg-molhiv\") \n",
    "split_idx = molHIV.get_idx_split() \n",
    "all_adjacencies, all_features, all_targets, atoms_to_index = extract_graphs_and_features(molHIV)\n",
    "all_targets = all_targets.to(torch.int64)\n",
    "\n",
    "# Create datasets using split_idx indices\n",
    "graph_dataset = GraphDataset(all_adjacencies, all_features, all_targets)\n",
    "train_dataset = torch.utils.data.Subset(graph_dataset, split_idx[\"train\"])\n",
    "val_dataset = torch.utils.data.Subset(graph_dataset, split_idx[\"valid\"])\n",
    "test_dataset = torch.utils.data.Subset(graph_dataset, split_idx[\"test\"]) \n",
    "\n",
    "# Create DataLoaders\n",
    "train_loader = torch.utils.data.DataLoader(train_dataset, batch_size=batch_size, shuffle=True)\n",
    "val_loader = torch.utils.data.DataLoader(val_dataset, batch_size=batch_size, shuffle=False)\n",
    "test_loader = torch.utils.data.DataLoader(test_dataset, batch_size=batch_size, shuffle=False)\n"
   ],
   "outputs": [
    {
     "name": "stderr",
     "output_type": "stream",
     "text": [
      "C:\\ProgramData\\miniconda3\\Lib\\site-packages\\ogb\\graphproppred\\dataset_pyg.py:68: FutureWarning: You are using `torch.load` with `weights_only=False` (the current default value), which uses the default pickle module implicitly. It is possible to construct malicious pickle data which will execute arbitrary code during unpickling (See https://github.com/pytorch/pytorch/blob/main/SECURITY.md#untrusted-models for more details). In a future release, the default value for `weights_only` will be flipped to `True`. This limits the functions that could be executed during unpickling. Arbitrary objects will no longer be allowed to be loaded via this mode unless they are explicitly allowlisted by the user via `torch.serialization.add_safe_globals`. We recommend you start setting `weights_only=True` for any use case where you don't have full control of the loaded file. Please open an issue on GitHub for any issues related to this experimental feature.\n",
      "  self.data, self.slices = torch.load(self.processed_paths[0])\n"
     ]
    }
   ],
   "execution_count": null
  },
  {
   "metadata": {
    "jupyter": {
     "is_executing": true
    }
   },
   "cell_type": "code",
   "source": "",
   "id": "142db195311ebc02",
   "outputs": [],
   "execution_count": null
  },
  {
   "cell_type": "markdown",
   "id": "db11527f",
   "metadata": {},
   "source": [
    "### Model and Training for MolHIV\n",
    "\n",
    "The evaluation of MolHIV (and all other datasets from ogb) should happen through an Evaluator. You can also try playing around with learning rate schedulers."
   ]
  },
  {
   "cell_type": "code",
   "id": "52980ac9",
   "metadata": {
    "jupyter": {
     "is_executing": true
    }
   },
   "source": [
    "evaluator = Evaluator(name='ogbg-molhiv')\n",
    "\n",
    "def evaluate(model, loader):\n",
    "    model.eval()\n",
    "\n",
    "    y_true = list()\n",
    "    y_pred = list()\n",
    "\n",
    "    for adjacencies, features, targets in loader:\n",
    "        adjacencies, features = adjacencies.to(device), features.to(device)\n",
    "\n",
    "        with torch.no_grad():\n",
    "            pred = model(features, adjacencies)\n",
    "        y_pred.append(pred.argmax(dim=-1, keepdims=True))\n",
    "        y_true.append(targets)\n",
    "\n",
    "    y_true = torch.cat(y_true, dim=0).detach().cpu()\n",
    "    y_pred = torch.cat(y_pred, dim=0).detach().cpu()\n",
    "\n",
    "    input_dict = {\"y_true\": y_true, \"y_pred\": y_pred}\n",
    "\n",
    "    return evaluator.eval(input_dict)['rocauc']"
   ],
   "outputs": [],
   "execution_count": null
  },
  {
   "cell_type": "code",
   "id": "00bd8864-bbbb-4a9e-a4ed-27233a9477f5",
   "metadata": {
    "scrolled": true,
    "jupyter": {
     "is_executing": true
    }
   },
   "source": [
    "# Model definition and Training loop\n",
    "from torch.optim import Adam\n",
    "#Initialize the model\n",
    "in_features = graph_dataset.num_features()  # Number of input features per node\n",
    "hidden_features = 32  # Number of hidden units in each GCN layer\n",
    "out_features = 2  # Binary classification output (HIV inhibitor or not)\n",
    "\n",
    "model = GraphGCN(in_features=in_features, hidden_features=hidden_features, out_features=out_features).to(device)\n",
    "\n",
    "# Set up the optimizer\n",
    "optimizer = Adam(model.parameters(), lr=0.01)\n",
    "\n",
    "# Compute class weights to handle imbalanced dataset\n",
    "class_weights = graph_dataset.compute_class_weights().to(device)\n",
    "criterion = torch.nn.CrossEntropyLoss(weight=class_weights)\n",
    "\n",
    "# Training loop\n",
    "epochs = 50\n",
    "best_val_rocauc = 0\n",
    "\n",
    "for epoch in range(epochs):\n",
    "    model.train()\n",
    "    total_loss = 0\n",
    "\n",
    "    for adjacencies, features, targets in train_loader:\n",
    "        adjacencies, features, targets = adjacencies.to(device), features.to(device), targets.to(device)\n",
    "\n",
    "        # Forward pass\n",
    "        optimizer.zero_grad()\n",
    "        outputs = model(features, adjacencies)\n",
    "        loss = criterion(outputs, targets)\n",
    "\n",
    "        # Backward pass and optimization\n",
    "        loss.backward()\n",
    "        optimizer.step()\n",
    "\n",
    "        total_loss += loss.item()\n",
    "\n",
    "    # Calculate average loss over the epoch\n",
    "    avg_loss = total_loss / len(train_loader)\n",
    "\n",
    "    # Validation\n",
    "    val_rocauc = evaluate(model, val_loader)\n",
    "    print(f\"Epoch {epoch + 1}/{epochs}, Loss: {avg_loss:.4f}, Val ROC-AUC: {val_rocauc:.4f}\")\n",
    "\n",
    "    # Check for the best validation ROC-AUC score and save the model state if it's the best so far\n",
    "    if val_rocauc > best_val_rocauc:\n",
    "        best_val_rocauc = val_rocauc\n",
    "        best_model_state = model.state_dict()  # Save the best model's weights\n",
    "\n",
    "# Load best model and evaluate on test set\n",
    "model.load_state_dict(best_model_state)\n",
    "test_rocauc = evaluate(model, test_loader)\n",
    "print(f\"Test ROC-AUC: {test_rocauc:.4f}\")"
   ],
   "outputs": [],
   "execution_count": null
  },
  {
   "metadata": {
    "jupyter": {
     "is_executing": true
    }
   },
   "cell_type": "code",
   "source": "",
   "id": "705c57fe288296e4",
   "outputs": [],
   "execution_count": null
  }
 ],
 "metadata": {
  "kernelspec": {
   "display_name": "Python 3 (ipykernel)",
   "language": "python",
   "name": "python3"
  },
  "language_info": {
   "codemirror_mode": {
    "name": "ipython",
    "version": 3
   },
   "file_extension": ".py",
   "mimetype": "text/x-python",
   "name": "python",
   "nbconvert_exporter": "python",
   "pygments_lexer": "ipython3",
   "version": "3.11.6"
  }
 },
 "nbformat": 4,
 "nbformat_minor": 5
}
