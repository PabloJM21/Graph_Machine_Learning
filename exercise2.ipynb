{
 "cells": [
  {
   "cell_type": "markdown",
   "id": "e53b0ec0-7936-4b9c-884f-b126418135f5",
   "metadata": {},
   "source": [
    "# Exercise 2\n",
    "Due:  Tue November 5, 8:00am"
   ]
  },
  {
   "cell_type": "code",
   "execution_count": 28,
   "id": "10328b2a-634d-4c8e-93a2-ae255ae1b28a",
   "metadata": {},
   "outputs": [],
   "source": [
    "import torch\n",
    "import torch_geometric as pyg\n",
    "import numpy as np\n",
    "import scipy\n",
    "from ogb.graphproppred import PygGraphPropPredDataset\n",
    "# from ogb.graphproppred.mol_encoder import AtomEncoder\n",
    "import ogb\n",
    "import torch_scatter\n",
    "import copy\n",
    "\n",
    "import time\n",
    "import random\n",
    "from tqdm import tqdm"
   ]
  },
  {
   "cell_type": "markdown",
   "id": "81f7b848-0580-4434-b371-5298bd6602e4",
   "metadata": {},
   "source": [
    "In this exercise, we use sparse message passing to make our networks scale to larger graphs. \n",
    "\n",
    "\n",
    "1) In this exercise we are working with the node-classification dataset Cora and the graph regression dataset ZINC. When working with a new dataset, it makes sense to at least quickly look into the data and some statistics for it. So for Cora: which is the second-biggest label class and what does it stand for? And for ZINC: how many HCO molecules (i.e. molecules consisting only of Hydrogen, Carbon, and Oxygen) are in the train set?\n",
    "\n",
    "1) When working on the Cora dataset your model should at least reach an accuracy of 0.6 (an accuracy of 0.7-0.8 is well within reach).\n",
    "Cora is a node classification dataset, so there is only one graph and we perform message passing on the whole graph (but evaluate the loss only on the nodes selected by cora_graph.train_mask).\n",
    "The dataset is mostly balanced, so we evaluate the accuracy.\n",
    "When implementing the message passing step, keep in mind that the graph does not contain self-loops (so one needs to somehow treat the \"old\" state).\n",
    "Since Cora is small enough to be run with dense tensors too, you can verify your implementation this way.\n",
    "\n",
    "2) ZINC is a small molecular regression dataset. Please compare the difference in performance between the (trainable) Atomencoder provided by ogb and the one-hot encoding you implemented in the first exercise.\n",
    "Note that since you need batches, you need to modify the pooling layer to respect the batches.\n"
   ]
  },
  {
   "cell_type": "code",
   "execution_count": 2,
   "id": "652f0fe4-eef7-4f8d-9b1a-93f66d72839a",
   "metadata": {},
   "outputs": [
    {
     "data": {
      "text/plain": [
       "device(type='mps')"
      ]
     },
     "execution_count": 2,
     "metadata": {},
     "output_type": "execute_result"
    }
   ],
   "source": [
    "# find device\n",
    "if torch.cuda.is_available(): # NVIDIA\n",
    "    device = torch.device('cuda')\n",
    "elif torch.backends.mps.is_available(): # apple M1/M2\n",
    "    device = torch.device('mps') \n",
    "else:\n",
    "    device = torch.device('cpu')\n",
    "device"
   ]
  },
  {
   "cell_type": "markdown",
   "id": "48a14462",
   "metadata": {},
   "source": [
    "## Cora"
   ]
  },
  {
   "cell_type": "code",
   "execution_count": 194,
   "id": "f973d525",
   "metadata": {},
   "outputs": [],
   "source": [
    "cora = pyg.datasets.Planetoid(root = \"dataset/cora\", name=\"Cora\")\n",
    "cora_graph = cora[0]\n",
    "cora_dense_adj = pyg.utils.to_dense_adj(cora_graph.edge_index).to(device)\n",
    "# cora_graph.x = cora_graph.x.unsqueeze(0) # Add an empty batch dimension. I needed that for compatibility with MolHIV later.\n",
    "cora_graph = cora_graph.to(device)"
   ]
  },
  {
   "cell_type": "code",
   "execution_count": 180,
   "id": "baea114a",
   "metadata": {},
   "outputs": [],
   "source": [
    "def get_accuracy(model, cora, mask):\n",
    "    model.eval()\n",
    "    with torch.no_grad():\n",
    "        outputs = model(cora_graph.x, cora_graph.edge_index)\n",
    "    correct = (outputs[mask].argmax(-1) == cora_graph.y[mask]).sum()\n",
    "    return int(correct) / int(mask.sum())"
   ]
  },
  {
   "cell_type": "code",
   "execution_count": 179,
   "id": "39becd27",
   "metadata": {},
   "outputs": [],
   "source": [
    "class GCNLayer(torch.nn.Module):\n",
    "    def __init__(self, in_features: int, out_features: int, activation=torch.nn.functional.relu):\n",
    "        super(GCNLayer, self).__init__()\n",
    "        raise NotImplementedError\n",
    "\n",
    "    def forward(self, H: torch.Tensor, edge_index: torch.Tensor):\n",
    "        raise NotImplementedError"
   ]
  },
  {
   "cell_type": "code",
   "execution_count": 202,
   "id": "a6b356e5",
   "metadata": {},
   "outputs": [],
   "source": [
    "class GraphNet(torch.nn.Module):\n",
    "    def __init__(self, in_features:int, out_features:int, hidden_features:int, activation=torch.nn.functional.relu, dropout=0.1):\n",
    "        super(GraphNet, self).__init__()\n",
    "        raise NotImplementedError\n",
    "\n",
    "    def forward(self, H: torch.Tensor, edge_index: torch.Tensor):\n",
    "        raise NotImplementedError\n",
    "\n",
    "        "
   ]
  },
  {
   "cell_type": "code",
   "execution_count": 1,
   "id": "c24df2a0",
   "metadata": {},
   "outputs": [],
   "source": [
    "# Training loop goes here"
   ]
  },
  {
   "cell_type": "markdown",
   "id": "ab71637d",
   "metadata": {},
   "source": [
    "## ZINC"
   ]
  },
  {
   "cell_type": "code",
   "execution_count": 3,
   "id": "dd62fc16-445d-4a46-ae52-21a007feaa5c",
   "metadata": {},
   "outputs": [],
   "source": [
    "# Load the dataset\n",
    "dataset = pyg.datasets.ZINC(root='dataset/ZINC', split='train', subset=True)\n",
    "dataset_val = pyg.datasets.ZINC(root='dataset/ZINC', split='val', subset=True)\n",
    "dataset_test = pyg.datasets.ZINC(root='dataset/ZINC', split='test', subset=True)\n",
    "\n",
    "# Create data loaders\n",
    "batch_size=128\n",
    "num_workers = 8\n",
    "train_loader = pyg.loader.DataLoader(dataset, batch_size=batch_size, shuffle=True, num_workers=num_workers)\n",
    "val_loader = pyg.loader.DataLoader(dataset_val, batch_size=batch_size, shuffle=False, num_workers=num_workers)\n",
    "test_loader = pyg.loader.DataLoader(dataset_test, batch_size=batch_size, shuffle=False, num_workers=num_workers)"
   ]
  },
  {
   "cell_type": "code",
   "execution_count": 2,
   "id": "a1f121fb",
   "metadata": {},
   "outputs": [],
   "source": [
    "# your implementation goes here"
   ]
  }
 ],
 "metadata": {
  "kernelspec": {
   "display_name": "Python 3",
   "language": "python",
   "name": "python3"
  },
  "language_info": {
   "codemirror_mode": {
    "name": "ipython",
    "version": 3
   },
   "file_extension": ".py",
   "mimetype": "text/x-python",
   "name": "python",
   "nbconvert_exporter": "python",
   "pygments_lexer": "ipython3",
   "version": "3.11.10"
  }
 },
 "nbformat": 4,
 "nbformat_minor": 5
}
